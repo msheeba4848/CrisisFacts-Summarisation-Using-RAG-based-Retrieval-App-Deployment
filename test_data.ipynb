{
 "cells": [
  {
   "cell_type": "code",
   "id": "initial_id",
   "metadata": {
    "collapsed": true,
    "ExecuteTime": {
     "end_time": "2024-12-06T00:16:34.128240Z",
     "start_time": "2024-12-06T00:16:34.119240Z"
    }
   },
   "source": [
    "from src.backend.retrieval.file_reader import read_csv\n",
    "from src.backend.retrieval.pipeline import preprocess_documents\n",
    "from src.backend.retrieval.bm25 import BM25Retriever\n",
    "from src.backend.retrieval.transformer import TransformerRetrieverANN\n",
    "from sklearn.model_selection import train_test_split\n",
    "import re"
   ],
   "outputs": [],
   "execution_count": 11
  },
  {
   "cell_type": "code",
   "id": "8ff9652acc02b952",
   "metadata": {
    "ExecuteTime": {
     "end_time": "2024-12-06T00:03:18.143833Z",
     "start_time": "2024-12-06T00:03:17.072613Z"
    }
   },
   "source": [
    "file_path = 'data/processed/all_data_cleaned.csv'\n",
    "data = read_csv(file_path)\n",
    "X = data['cleaned_text']\n",
    "y = data['class_label']\n",
    "X_train, X_test, y_train, y_test = train_test_split(X, y, test_size=0.2, random_state=42)\n"
   ],
   "outputs": [],
   "execution_count": 2
  },
  {
   "cell_type": "code",
   "id": "7d33acfd",
   "metadata": {
    "ExecuteTime": {
     "end_time": "2024-12-06T00:03:50.794084Z",
     "start_time": "2024-12-06T00:03:18.206832Z"
    }
   },
   "source": [
    "X_train_embeddings, transformer_model = preprocess_documents(X_train.tolist())\n",
    "X_test_embeddings, _ = preprocess_documents(X_test.tolist())"
   ],
   "outputs": [
    {
     "name": "stdout",
     "output_type": "stream",
     "text": [
      "Using device: cuda\n",
      "Generating embeddings...\n"
     ]
    },
    {
     "data": {
      "text/plain": [
       "Batches:   0%|          | 0/5317 [00:00<?, ?it/s]"
      ],
      "application/vnd.jupyter.widget-view+json": {
       "version_major": 2,
       "version_minor": 0,
       "model_id": "7c8b3a492d5648b7b5b3e6cca40c93ff"
      }
     },
     "metadata": {},
     "output_type": "display_data"
    },
    {
     "name": "stdout",
     "output_type": "stream",
     "text": [
      "Using device: cuda\n",
      "Generating embeddings...\n"
     ]
    },
    {
     "data": {
      "text/plain": [
       "Batches:   0%|          | 0/1330 [00:00<?, ?it/s]"
      ],
      "application/vnd.jupyter.widget-view+json": {
       "version_major": 2,
       "version_minor": 0,
       "model_id": "9b7827b848ba45fdb6fa2cbef109db69"
      }
     },
     "metadata": {},
     "output_type": "display_data"
    }
   ],
   "execution_count": 3
  },
  {
   "metadata": {
    "ExecuteTime": {
     "end_time": "2024-12-06T00:16:50.077198Z",
     "start_time": "2024-12-06T00:16:49.344943Z"
    }
   },
   "cell_type": "code",
   "source": [
    "def preprocess_text(text):\n",
    "    # Example cleaning steps\n",
    "    text = text.lower()  # Convert to lowercase\n",
    "    text = re.sub(r\"[^a-zA-Z0-9\\s]\", \"\", text)  # Remove special characters\n",
    "    text = re.sub(r\"\\s+\", \" \", text).strip()  # Normalize whitespace\n",
    "    return text\n",
    "\n",
    "# Apply preprocessing to training and test sets\n",
    "X_train = X_train.apply(preprocess_text)\n",
    "X_test = X_test.apply(preprocess_text)\n",
    "\n",
    "print(X_train.iloc[0])  # First training document\n",
    "print(y_train.iloc[0])  # Corresponding label\n"
   ],
   "id": "a25923138192adda",
   "outputs": [
    {
     "name": "stdout",
     "output_type": "stream",
     "text": [
      "so please skip a few pages amp lets end this with a happy ending\n",
      "not_humanitarian\n"
     ]
    }
   ],
   "execution_count": 13
  },
  {
   "cell_type": "code",
   "id": "9981003c",
   "metadata": {
    "ExecuteTime": {
     "end_time": "2024-12-06T00:03:56.468510Z",
     "start_time": "2024-12-06T00:03:50.810085Z"
    }
   },
   "source": [
    "print(\"\\nBM25 Retriever Results:\")\n",
    "bm25_retriever = BM25Retriever(X_train)\n",
    "bm25_results = bm25_retriever.query(X_test[:10], top_n=1)\n",
    "print(\"BM25 Results:\", bm25_results)"
   ],
   "outputs": [
    {
     "name": "stdout",
     "output_type": "stream",
     "text": [
      "\n",
      "BM25 Retriever Results:\n"
     ]
    },
    {
     "name": "stderr",
     "output_type": "stream",
     "text": [
      "C:\\Users\\Jacky\\AppData\\Local\\Temp\\ipykernel_158512\\4267419831.py:3: FutureWarning: The behavior of `series[i:j]` with an integer-dtype index is deprecated. In a future version, this will be treated as *label-based* indexing, consistent with e.g. `series[i]` lookups. To retain the old behavior, use `series.iloc[i:j]`. To get the future behavior, use `series.loc[i:j]`.\n",
      "  bm25_results = bm25_retriever.query(X_test[:10], top_n=1)\n"
     ]
    },
    {
     "name": "stdout",
     "output_type": "stream",
     "text": [
      "BM25 Results: [[54718], [89327], [160185], [164499], [110444], [150452], [97162], [153058], [125044], [156877]]\n"
     ]
    }
   ],
   "execution_count": 4
  },
  {
   "metadata": {
    "ExecuteTime": {
     "end_time": "2024-12-06T00:12:30.813378Z",
     "start_time": "2024-12-06T00:11:46.416669Z"
    }
   },
   "cell_type": "code",
   "source": [
    "def evaluate_retriever(true_labels, predicted_labels):\n",
    "    \"\"\"\n",
    "    Evaluate the retriever using accuracy, classification report, and confusion matrix.\n",
    "    \"\"\"\n",
    "    print(\"\\nAccuracy:\", accuracy_score(true_labels, predicted_labels))\n",
    "    print(\"\\nClassification Report:\\n\", classification_report(true_labels, predicted_labels, zero_division=0))\n",
    "    print(\"\\nConfusion Matrix:\\n\", confusion_matrix(true_labels, predicted_labels))\n",
    "\n",
    "\n",
    "# Initialize BM25 Retriever\n",
    "print(\"\\nBM25 Retriever Evaluation:\")\n",
    "bm25_retriever = BM25Retriever(X_train.tolist())  # Pass training data\n",
    "\n",
    "# Reduce the test set for debugging\n",
    "subset_size = 100  # Adjust to a smaller number for faster runs\n",
    "X_test_subset = X_test.iloc[:subset_size]\n",
    "y_test_subset = y_test.iloc[:subset_size]\n",
    "\n",
    "# Generate predictions for BM25\n",
    "bm25_predicted_labels = []\n",
    "for query in X_test_subset:\n",
    "    results = bm25_retriever.query([query], top_n=1)\n",
    "    top_result_idx = results[0][0]\n",
    "    bm25_predicted_labels.append(y_train.iloc[top_result_idx])\n",
    "\n",
    "# Evaluate BM25 on the subset\n",
    "evaluate_retriever(y_test_subset.tolist(), bm25_predicted_labels)\n"
   ],
   "id": "8bee52ae31e83e6a",
   "outputs": [
    {
     "name": "stdout",
     "output_type": "stream",
     "text": [
      "\n",
      "BM25 Retriever Evaluation:\n",
      "\n",
      "Accuracy: 0.18\n",
      "\n",
      "Classification Report:\n",
      "                                      precision    recall  f1-score   support\n",
      "\n",
      "                affected_individual       0.00      0.00      0.00         1\n",
      "                 caution_and_advice       0.00      0.00      0.00         1\n",
      "          displaced_and_evacuations       0.00      0.00      0.00         0\n",
      "          donation_and_volunteering       0.00      0.00      0.00         2\n",
      "                        informative       0.45      0.39      0.42        38\n",
      "infrastructure_and_utilities_damage       0.00      0.00      0.00         2\n",
      "             injured_or_dead_people       1.00      1.00      1.00         1\n",
      "                   not_humanitarian       0.07      0.10      0.08        21\n",
      "                    not_informative       0.00      0.00      0.00        29\n",
      "                  requests_or_needs       0.00      0.00      0.00         2\n",
      "               sympathy_and_support       0.00      0.00      0.00         3\n",
      "\n",
      "                           accuracy                           0.18       100\n",
      "                          macro avg       0.14      0.14      0.14       100\n",
      "                       weighted avg       0.20      0.18      0.19       100\n",
      "\n",
      "\n",
      "Confusion Matrix:\n",
      " [[ 0  0  0  0  1  0  0  0  0  0  0]\n",
      " [ 0  0  0  0  1  0  0  0  0  0  0]\n",
      " [ 0  0  0  0  0  0  0  0  0  0  0]\n",
      " [ 0  0  0  0  2  0  0  0  0  0  0]\n",
      " [ 3  4  1  1 15  4  0  3  3  2  2]\n",
      " [ 0  0  0  0  2  0  0  0  0  0  0]\n",
      " [ 0  0  0  0  0  0  1  0  0  0  0]\n",
      " [ 0  0  0  0  3  0  0  2 15  1  0]\n",
      " [ 0  0  0  0  4  0  0 24  0  1  0]\n",
      " [ 0  0  0  0  2  0  0  0  0  0  0]\n",
      " [ 0  0  0  0  3  0  0  0  0  0  0]]\n"
     ]
    }
   ],
   "execution_count": 10
  },
  {
   "cell_type": "code",
   "id": "0193b879",
   "metadata": {
    "ExecuteTime": {
     "end_time": "2024-12-06T00:04:22.474396Z",
     "start_time": "2024-12-06T00:03:56.494511Z"
    }
   },
   "source": [
    "print(\"\\nTransformer ANN Retriever Results:\")\n",
    "dimension = X_train_embeddings.shape[1]\n",
    "transformer_retriever = TransformerRetrieverANN('sentence-transformers/all-MiniLM-L6-v2', n_neighbors=5)\n",
    "transformer_retriever.fit(X_train.tolist())"
   ],
   "outputs": [
    {
     "name": "stdout",
     "output_type": "stream",
     "text": [
      "\n",
      "Transformer ANN Retriever Results:\n",
      "Generating embeddings for the corpus...\n"
     ]
    },
    {
     "data": {
      "text/plain": [
       "Batches:   0%|          | 0/5317 [00:00<?, ?it/s]"
      ],
      "application/vnd.jupyter.widget-view+json": {
       "version_major": 2,
       "version_minor": 0,
       "model_id": "5920fcfecc7547e6881b1e2d9699ace1"
      }
     },
     "metadata": {},
     "output_type": "display_data"
    }
   ],
   "execution_count": 5
  },
  {
   "cell_type": "code",
   "id": "0ce7cb95",
   "metadata": {
    "ExecuteTime": {
     "end_time": "2024-12-06T00:04:22.720093Z",
     "start_time": "2024-12-06T00:04:22.491397Z"
    }
   },
   "source": [
    "query = X_test.iloc[0]  # Example query\n",
    "results, distances = transformer_retriever.query(query, top_n=3)\n",
    "print(\"Query:\", query)\n",
    "print(\"Results:\", results)\n",
    "print(\"Distances:\", distances)"
   ],
   "outputs": [
    {
     "name": "stdout",
     "output_type": "stream",
     "text": [
      "Query: NAIROBI, 1 February (IRIN) - A recent survey by the aid agency International Rescue Committee has shown widespread reluctance among residents of Goma, in the eastern Democratic Republic of Congo, to relocate outside the volcano stricken town, despite the danger of further eruptions in the region.\n",
      "Results: ['NAIROBI, 1 February (IRIN) - A recent survey by the aid agency International Rescue Committee has shown widespread reluctance among residents of Goma, in the eastern Democratic Republic of Congo, to relocate outside the volcano stricken town, despite the danger of further eruptions in the region.', 'I gather \"IRMA\" hit some parts of Kenya?', \"ISIOLO, 17 October 2012 (IRIN) - Amid rising insecurity, a senior official in Kenya's North Eastern Province has ordered all refugees and unregistered migrants from neighbouring Somalia to move to the under-resourced Dadaab refugee complex by 20 October or face forced relocation.\"]\n",
      "Distances: [0.         0.38501334 0.45417732]\n"
     ]
    }
   ],
   "execution_count": 6
  },
  {
   "cell_type": "code",
   "id": "6449f3dec41d9863",
   "metadata": {
    "ExecuteTime": {
     "end_time": "2024-12-06T00:04:27.433424Z",
     "start_time": "2024-12-06T00:04:22.737099Z"
    }
   },
   "source": [
    "from sklearn.metrics import accuracy_score, classification_report, confusion_matrix\n",
    "import numpy as np\n",
    "\n",
    "# Define a helper function for evaluation\n",
    "def evaluate_retriever(y_test, predicted_labels):\n",
    "    \"\"\"\n",
    "    Evaluates the retriever using accuracy and confusion matrix.\n",
    "    \"\"\"\n",
    "    print(\"\\nAccuracy:\", accuracy_score(y_test, predicted_labels))\n",
    "    print(\"\\nClassification Report:\\n\", classification_report(\n",
    "        y_test, predicted_labels, zero_division=0))  # Handle undefined metrics\n",
    "    print(\"\\nConfusion Matrix:\\n\", confusion_matrix(y_test, predicted_labels))\n",
    "\n",
    "# Step 4: BM25 Retriever Evaluation\n",
    "print(\"\\nBM25 Retriever Evaluation:\")\n",
    "bm25_predicted_labels = []\n",
    "\n",
    "# Debugging Loop\n",
    "for query in X_test.iloc[:10]:  # Adjust the range as needed\n",
    "    # Retrieve the top index\n",
    "    results = bm25_retriever.query([query], top_n=1)\n",
    "    top_result_idx = results[0][0]\n",
    "\n",
    "    # Debug: Print the retrieved index and corresponding label\n",
    "    print(f\"Query: {query}\")\n",
    "    print(f\"Retrieved Index: {top_result_idx}\")\n",
    "    print(f\"Retrieved Label: {y_train.iloc[top_result_idx]}\")\n",
    "\n",
    "    # Append the predicted label\n",
    "    bm25_predicted_labels.append(y_train.iloc[top_result_idx])\n",
    "\n",
    "# Evaluate BM25\n",
    "evaluate_retriever(y_test.iloc[:10].tolist(), bm25_predicted_labels)\n"
   ],
   "outputs": [
    {
     "name": "stdout",
     "output_type": "stream",
     "text": [
      "\n",
      "BM25 Retriever Evaluation:\n",
      "Query: NAIROBI, 1 February (IRIN) - A recent survey by the aid agency International Rescue Committee has shown widespread reluctance among residents of Goma, in the eastern Democratic Republic of Congo, to relocate outside the volcano stricken town, despite the danger of further eruptions in the region.\n",
      "Retrieved Index: 54718\n",
      "Retrieved Label: requests_or_needs\n",
      "Query: ��� I love you, but enough of\n",
      "Retrieved Index: 89327\n",
      "Retrieved Label: informative\n",
      "Query: COINCIDENCE????? … … … Damage due to typhoon Pablo reaches P14 billion - NDRRMC\n",
      "Retrieved Index: 160185\n",
      "Retrieved Label: infrastructure_and_utilities_damage\n",
      "Query: THERE'S A TORNADO WARNING FOR OAKLAND\n",
      "Retrieved Index: 164499\n",
      "Retrieved Label: informative\n",
      "Query: we want video tweet\\nU HV promised us \\n\\nSRK 13 Million\n",
      "Retrieved Index: 110444\n",
      "Retrieved Label: not_humanitarian\n",
      "Query: Qatar using migrant labor, modern day slavery, &amp; hundreds dead building their World Cup stadiums in the unbearable heat.\n",
      "Retrieved Index: 150452\n",
      "Retrieved Label: informative\n",
      "Query: I tend to make myself feel like I'm at home when I go places.\n",
      "Retrieved Index: 97162\n",
      "Retrieved Label: not_informative\n",
      "Query: The statistics from our Rohingya report are sickening via thanks\n",
      "Retrieved Index: 153058\n",
      "Retrieved Label: caution_and_advice\n",
      "Query: What a performance by the crowd at the Garden\n",
      "Retrieved Index: 125044\n",
      "Retrieved Label: not_humanitarian\n",
      "Query: I see she bought the sequel....that's not my doing now cause I thought the book was awful\n",
      "Retrieved Index: 156877\n",
      "Retrieved Label: not_informative\n",
      "\n",
      "Accuracy: 0.0\n",
      "\n",
      "Classification Report:\n",
      "                                      precision    recall  f1-score   support\n",
      "\n",
      "                 caution_and_advice       0.00      0.00      0.00       1.0\n",
      "                        informative       0.00      0.00      0.00       4.0\n",
      "infrastructure_and_utilities_damage       0.00      0.00      0.00       0.0\n",
      "                   not_humanitarian       0.00      0.00      0.00       3.0\n",
      "                    not_informative       0.00      0.00      0.00       1.0\n",
      "                  requests_or_needs       0.00      0.00      0.00       0.0\n",
      "               sympathy_and_support       0.00      0.00      0.00       1.0\n",
      "\n",
      "                           accuracy                           0.00      10.0\n",
      "                          macro avg       0.00      0.00      0.00      10.0\n",
      "                       weighted avg       0.00      0.00      0.00      10.0\n",
      "\n",
      "\n",
      "Confusion Matrix:\n",
      " [[0 1 0 0 0 0 0]\n",
      " [1 0 1 1 0 1 0]\n",
      " [0 0 0 0 0 0 0]\n",
      " [0 1 0 0 2 0 0]\n",
      " [0 0 0 1 0 0 0]\n",
      " [0 0 0 0 0 0 0]\n",
      " [0 1 0 0 0 0 0]]\n"
     ]
    }
   ],
   "execution_count": 7
  },
  {
   "cell_type": "code",
   "id": "ffb9bd27c99d068",
   "metadata": {
    "ExecuteTime": {
     "end_time": "2024-12-06T00:04:28.372819Z",
     "start_time": "2024-12-06T00:04:27.450426Z"
    }
   },
   "source": [
    "# Step 5: Transformer ANN Retriever Evaluation\n",
    "print(\"\\nTransformer ANN Retriever Evaluation:\")\n",
    "transformer_predicted_labels = []\n",
    "\n",
    "# Loop through the test queries\n",
    "for query in X_test.iloc[:10]:  # Correctly use .iloc for positional indexing\n",
    "    indices, _ = transformer_retriever.query(query, top_n=1)\n",
    "\n",
    "    # Debugging: Print the structure of indices\n",
    "    print(\"Query:\", query)\n",
    "    print(\"Indices:\", indices)\n",
    "    print(\"Type of indices:\", type(indices))\n",
    "\n",
    "    # Handle indexing based on structure\n",
    "    if isinstance(indices, np.ndarray):  # If indices is a NumPy array\n",
    "        index = indices[0][0]  # Extract the first index\n",
    "    elif isinstance(indices, list):  # If indices is a list\n",
    "        index = indices[0][0]\n",
    "    else:\n",
    "        raise ValueError(\"Unexpected type for indices:\", type(indices))\n",
    "\n",
    "    # Append the corresponding label\n",
    "    transformer_predicted_labels.append(y_train.iloc[index])\n",
    "\n",
    "# Evaluate Transformer ANN\n",
    "evaluate_retriever(y_test.iloc[:10].tolist(), transformer_predicted_labels)"
   ],
   "outputs": [
    {
     "name": "stdout",
     "output_type": "stream",
     "text": [
      "\n",
      "Transformer ANN Retriever Evaluation:\n",
      "Query: NAIROBI, 1 February (IRIN) - A recent survey by the aid agency International Rescue Committee has shown widespread reluctance among residents of Goma, in the eastern Democratic Republic of Congo, to relocate outside the volcano stricken town, despite the danger of further eruptions in the region.\n",
      "Indices: ['NAIROBI, 1 February (IRIN) - A recent survey by the aid agency International Rescue Committee has shown widespread reluctance among residents of Goma, in the eastern Democratic Republic of Congo, to relocate outside the volcano stricken town, despite the danger of further eruptions in the region.']\n",
      "Type of indices: <class 'list'>\n"
     ]
    },
    {
     "ename": "TypeError",
     "evalue": "Cannot index by location index with a non-integer key",
     "output_type": "error",
     "traceback": [
      "\u001B[1;31m---------------------------------------------------------------------------\u001B[0m",
      "\u001B[1;31mTypeError\u001B[0m                                 Traceback (most recent call last)",
      "Cell \u001B[1;32mIn[8], line 23\u001B[0m\n\u001B[0;32m     20\u001B[0m         \u001B[38;5;28;01mraise\u001B[39;00m \u001B[38;5;167;01mValueError\u001B[39;00m(\u001B[38;5;124m\"\u001B[39m\u001B[38;5;124mUnexpected type for indices:\u001B[39m\u001B[38;5;124m\"\u001B[39m, \u001B[38;5;28mtype\u001B[39m(indices))\n\u001B[0;32m     22\u001B[0m     \u001B[38;5;66;03m# Append the corresponding label\u001B[39;00m\n\u001B[1;32m---> 23\u001B[0m     transformer_predicted_labels\u001B[38;5;241m.\u001B[39mappend(\u001B[43my_train\u001B[49m\u001B[38;5;241;43m.\u001B[39;49m\u001B[43miloc\u001B[49m\u001B[43m[\u001B[49m\u001B[43mindex\u001B[49m\u001B[43m]\u001B[49m)\n\u001B[0;32m     25\u001B[0m \u001B[38;5;66;03m# Evaluate Transformer ANN\u001B[39;00m\n\u001B[0;32m     26\u001B[0m evaluate_retriever(y_test\u001B[38;5;241m.\u001B[39miloc[:\u001B[38;5;241m10\u001B[39m]\u001B[38;5;241m.\u001B[39mtolist(), transformer_predicted_labels)\n",
      "File \u001B[1;32m~\\anaconda3\\envs\\dsan6700\\lib\\site-packages\\pandas\\core\\indexing.py:1074\u001B[0m, in \u001B[0;36m_LocationIndexer.__getitem__\u001B[1;34m(self, key)\u001B[0m\n\u001B[0;32m   1071\u001B[0m axis \u001B[38;5;241m=\u001B[39m \u001B[38;5;28mself\u001B[39m\u001B[38;5;241m.\u001B[39maxis \u001B[38;5;129;01mor\u001B[39;00m \u001B[38;5;241m0\u001B[39m\n\u001B[0;32m   1073\u001B[0m maybe_callable \u001B[38;5;241m=\u001B[39m com\u001B[38;5;241m.\u001B[39mapply_if_callable(key, \u001B[38;5;28mself\u001B[39m\u001B[38;5;241m.\u001B[39mobj)\n\u001B[1;32m-> 1074\u001B[0m \u001B[38;5;28;01mreturn\u001B[39;00m \u001B[38;5;28;43mself\u001B[39;49m\u001B[38;5;241;43m.\u001B[39;49m\u001B[43m_getitem_axis\u001B[49m\u001B[43m(\u001B[49m\u001B[43mmaybe_callable\u001B[49m\u001B[43m,\u001B[49m\u001B[43m \u001B[49m\u001B[43maxis\u001B[49m\u001B[38;5;241;43m=\u001B[39;49m\u001B[43maxis\u001B[49m\u001B[43m)\u001B[49m\n",
      "File \u001B[1;32m~\\anaconda3\\envs\\dsan6700\\lib\\site-packages\\pandas\\core\\indexing.py:1623\u001B[0m, in \u001B[0;36m_iLocIndexer._getitem_axis\u001B[1;34m(self, key, axis)\u001B[0m\n\u001B[0;32m   1621\u001B[0m key \u001B[38;5;241m=\u001B[39m item_from_zerodim(key)\n\u001B[0;32m   1622\u001B[0m \u001B[38;5;28;01mif\u001B[39;00m \u001B[38;5;129;01mnot\u001B[39;00m is_integer(key):\n\u001B[1;32m-> 1623\u001B[0m     \u001B[38;5;28;01mraise\u001B[39;00m \u001B[38;5;167;01mTypeError\u001B[39;00m(\u001B[38;5;124m\"\u001B[39m\u001B[38;5;124mCannot index by location index with a non-integer key\u001B[39m\u001B[38;5;124m\"\u001B[39m)\n\u001B[0;32m   1625\u001B[0m \u001B[38;5;66;03m# validate the location\u001B[39;00m\n\u001B[0;32m   1626\u001B[0m \u001B[38;5;28mself\u001B[39m\u001B[38;5;241m.\u001B[39m_validate_integer(key, axis)\n",
      "\u001B[1;31mTypeError\u001B[0m: Cannot index by location index with a non-integer key"
     ]
    }
   ],
   "execution_count": 8
  },
  {
   "cell_type": "code",
   "execution_count": null,
   "id": "b520ad83d22974f",
   "metadata": {
    "ExecuteTime": {
     "end_time": "2024-12-06T00:04:28.394820700Z",
     "start_time": "2024-12-05T04:37:11.953436Z"
    }
   },
   "outputs": [],
   "source": []
  }
 ],
 "metadata": {
  "kernelspec": {
   "display_name": "dsan6700",
   "language": "python",
   "name": "python3"
  },
  "language_info": {
   "codemirror_mode": {
    "name": "ipython",
    "version": 3
   },
   "file_extension": ".py",
   "mimetype": "text/x-python",
   "name": "python",
   "nbconvert_exporter": "python",
   "pygments_lexer": "ipython3",
   "version": "3.10.15"
  }
 },
 "nbformat": 4,
 "nbformat_minor": 5
}
