{
 "cells": [
  {
   "cell_type": "code",
   "id": "initial_id",
   "metadata": {
    "collapsed": true,
    "ExecuteTime": {
     "end_time": "2024-12-03T23:22:55.179350Z",
     "start_time": "2024-12-03T23:22:55.156350Z"
    }
   },
   "source": [
    "from src.backend.retrieval.file_reader import read_csv\n",
    "from src.backend.retrieval.pipeline import TwoStagePipeline, preprocess_text_column"
   ],
   "outputs": [
    {
     "ename": "ImportError",
     "evalue": "cannot import name 'read_csv' from 'src.backend.retrieval.file_reader' (C:\\Users\\Jacky\\OneDrive\\Word\\Github\\final-project-sweetgreen\\src\\backend\\retrieval\\file_reader.py)",
     "output_type": "error",
     "traceback": [
      "\u001B[1;31m---------------------------------------------------------------------------\u001B[0m",
      "\u001B[1;31mImportError\u001B[0m                               Traceback (most recent call last)",
      "Cell \u001B[1;32mIn[83], line 1\u001B[0m\n\u001B[1;32m----> 1\u001B[0m \u001B[38;5;28;01mfrom\u001B[39;00m \u001B[38;5;21;01msrc\u001B[39;00m\u001B[38;5;21;01m.\u001B[39;00m\u001B[38;5;21;01mbackend\u001B[39;00m\u001B[38;5;21;01m.\u001B[39;00m\u001B[38;5;21;01mretrieval\u001B[39;00m\u001B[38;5;21;01m.\u001B[39;00m\u001B[38;5;21;01mfile_reader\u001B[39;00m \u001B[38;5;28;01mimport\u001B[39;00m read_csv\n\u001B[0;32m      2\u001B[0m \u001B[38;5;28;01mfrom\u001B[39;00m \u001B[38;5;21;01msrc\u001B[39;00m\u001B[38;5;21;01m.\u001B[39;00m\u001B[38;5;21;01mbackend\u001B[39;00m\u001B[38;5;21;01m.\u001B[39;00m\u001B[38;5;21;01mretrieval\u001B[39;00m\u001B[38;5;21;01m.\u001B[39;00m\u001B[38;5;21;01mpipeline\u001B[39;00m \u001B[38;5;28;01mimport\u001B[39;00m TwoStagePipeline, preprocess_text_column\n",
      "\u001B[1;31mImportError\u001B[0m: cannot import name 'read_csv' from 'src.backend.retrieval.file_reader' (C:\\Users\\Jacky\\OneDrive\\Word\\Github\\final-project-sweetgreen\\src\\backend\\retrieval\\file_reader.py)"
     ]
    }
   ],
   "execution_count": 83
  },
  {
   "metadata": {
    "ExecuteTime": {
     "end_time": "2024-12-03T23:22:07.859858Z",
     "start_time": "2024-12-03T23:22:07.836858Z"
    }
   },
   "cell_type": "code",
   "source": [
    "documents = read_csv('data/processed/all_data_cleaned.csv', column_name='cleaned_text')\n",
    "type(documents)\n",
    "documents"
   ],
   "id": "8ff9652acc02b952",
   "outputs": [
    {
     "ename": "NameError",
     "evalue": "name 'read_csv' is not defined",
     "output_type": "error",
     "traceback": [
      "\u001B[1;31m---------------------------------------------------------------------------\u001B[0m",
      "\u001B[1;31mNameError\u001B[0m                                 Traceback (most recent call last)",
      "Cell \u001B[1;32mIn[73], line 1\u001B[0m\n\u001B[1;32m----> 1\u001B[0m documents \u001B[38;5;241m=\u001B[39m \u001B[43mread_csv\u001B[49m(\u001B[38;5;124m'\u001B[39m\u001B[38;5;124mdata/processed/all_data_cleaned.csv\u001B[39m\u001B[38;5;124m'\u001B[39m, column_name\u001B[38;5;241m=\u001B[39m\u001B[38;5;124m'\u001B[39m\u001B[38;5;124mcleaned_text\u001B[39m\u001B[38;5;124m'\u001B[39m)\n\u001B[0;32m      2\u001B[0m \u001B[38;5;28mtype\u001B[39m(documents)\n\u001B[0;32m      3\u001B[0m documents\n",
      "\u001B[1;31mNameError\u001B[0m: name 'read_csv' is not defined"
     ]
    }
   ],
   "execution_count": 73
  },
  {
   "metadata": {
    "ExecuteTime": {
     "end_time": "2024-12-03T23:12:55.921347Z",
     "start_time": "2024-12-03T23:12:55.679158Z"
    }
   },
   "cell_type": "code",
   "source": "documents = preprocess_documents(documents)",
   "id": "d515fd326c4ea7c2",
   "outputs": [
    {
     "ename": "AttributeError",
     "evalue": "'float' object has no attribute 'lower'",
     "output_type": "error",
     "traceback": [
      "\u001B[1;31m---------------------------------------------------------------------------\u001B[0m",
      "\u001B[1;31mAttributeError\u001B[0m                            Traceback (most recent call last)",
      "Cell \u001B[1;32mIn[54], line 1\u001B[0m\n\u001B[1;32m----> 1\u001B[0m documents \u001B[38;5;241m=\u001B[39m \u001B[43mpreprocess_documents\u001B[49m\u001B[43m(\u001B[49m\u001B[43mdocuments\u001B[49m\u001B[43m)\u001B[49m\n",
      "File \u001B[1;32m~\\OneDrive\\Word\\Github\\final-project-sweetgreen\\src\\backend\\retrieval\\pipeline.py:14\u001B[0m, in \u001B[0;36mpreprocess_documents\u001B[1;34m(documents, model_name)\u001B[0m\n\u001B[0;32m     10\u001B[0m \u001B[38;5;250m\u001B[39m\u001B[38;5;124;03m\"\"\"\u001B[39;00m\n\u001B[0;32m     11\u001B[0m \u001B[38;5;124;03mPreprocess documents using transformer tokenization.\u001B[39;00m\n\u001B[0;32m     12\u001B[0m \u001B[38;5;124;03m\"\"\"\u001B[39;00m\n\u001B[0;32m     13\u001B[0m tokenizer \u001B[38;5;241m=\u001B[39m AutoTokenizer\u001B[38;5;241m.\u001B[39mfrom_pretrained(model_name)\n\u001B[1;32m---> 14\u001B[0m processed_documents \u001B[38;5;241m=\u001B[39m [\u001B[38;5;124m'\u001B[39m\u001B[38;5;124m \u001B[39m\u001B[38;5;124m'\u001B[39m\u001B[38;5;241m.\u001B[39mjoin(tokenizer\u001B[38;5;241m.\u001B[39mtokenize(doc\u001B[38;5;241m.\u001B[39mlower())) \u001B[38;5;28;01mfor\u001B[39;00m doc \u001B[38;5;129;01min\u001B[39;00m documents]\n\u001B[0;32m     15\u001B[0m \u001B[38;5;28;01mreturn\u001B[39;00m processed_documents\n",
      "File \u001B[1;32m~\\OneDrive\\Word\\Github\\final-project-sweetgreen\\src\\backend\\retrieval\\pipeline.py:14\u001B[0m, in \u001B[0;36m<listcomp>\u001B[1;34m(.0)\u001B[0m\n\u001B[0;32m     10\u001B[0m \u001B[38;5;250m\u001B[39m\u001B[38;5;124;03m\"\"\"\u001B[39;00m\n\u001B[0;32m     11\u001B[0m \u001B[38;5;124;03mPreprocess documents using transformer tokenization.\u001B[39;00m\n\u001B[0;32m     12\u001B[0m \u001B[38;5;124;03m\"\"\"\u001B[39;00m\n\u001B[0;32m     13\u001B[0m tokenizer \u001B[38;5;241m=\u001B[39m AutoTokenizer\u001B[38;5;241m.\u001B[39mfrom_pretrained(model_name)\n\u001B[1;32m---> 14\u001B[0m processed_documents \u001B[38;5;241m=\u001B[39m [\u001B[38;5;124m'\u001B[39m\u001B[38;5;124m \u001B[39m\u001B[38;5;124m'\u001B[39m\u001B[38;5;241m.\u001B[39mjoin(tokenizer\u001B[38;5;241m.\u001B[39mtokenize(\u001B[43mdoc\u001B[49m\u001B[38;5;241;43m.\u001B[39;49m\u001B[43mlower\u001B[49m())) \u001B[38;5;28;01mfor\u001B[39;00m doc \u001B[38;5;129;01min\u001B[39;00m documents]\n\u001B[0;32m     15\u001B[0m \u001B[38;5;28;01mreturn\u001B[39;00m processed_documents\n",
      "\u001B[1;31mAttributeError\u001B[0m: 'float' object has no attribute 'lower'"
     ]
    }
   ],
   "execution_count": 54
  },
  {
   "metadata": {
    "ExecuteTime": {
     "end_time": "2024-12-03T23:12:56.090355Z",
     "start_time": "2024-12-03T23:12:56.073354Z"
    }
   },
   "cell_type": "code",
   "source": "",
   "id": "6449f3dec41d9863",
   "outputs": [],
   "execution_count": null
  },
  {
   "metadata": {
    "ExecuteTime": {
     "end_time": "2024-12-03T23:12:56.201352Z",
     "start_time": "2024-12-03T23:12:56.187352Z"
    }
   },
   "cell_type": "code",
   "source": "",
   "id": "ffb9bd27c99d068",
   "outputs": [],
   "execution_count": null
  },
  {
   "metadata": {},
   "cell_type": "code",
   "outputs": [],
   "execution_count": null,
   "source": "",
   "id": "b520ad83d22974f"
  }
 ],
 "metadata": {
  "kernelspec": {
   "display_name": "Python 3",
   "language": "python",
   "name": "python3"
  },
  "language_info": {
   "codemirror_mode": {
    "name": "ipython",
    "version": 2
   },
   "file_extension": ".py",
   "mimetype": "text/x-python",
   "name": "python",
   "nbconvert_exporter": "python",
   "pygments_lexer": "ipython2",
   "version": "2.7.6"
  }
 },
 "nbformat": 4,
 "nbformat_minor": 5
}
