{
 "cells": [
  {
   "cell_type": "code",
   "id": "initial_id",
   "metadata": {
    "collapsed": true,
    "ExecuteTime": {
     "end_time": "2024-12-05T06:25:39.930097Z",
     "start_time": "2024-12-05T06:25:39.916097Z"
    }
   },
   "source": [
    "from src.backend.retrieval.file_reader import read_csv\n",
    "from src.backend.retrieval.pipeline import TwoStagePipeline, preprocess_documents\n",
    "from sklearn.model_selection import train_test_split\n",
    "import numpy as np"
   ],
   "outputs": [],
   "execution_count": 9
  },
  {
   "cell_type": "code",
   "id": "8ff9652acc02b952",
   "metadata": {
    "ExecuteTime": {
     "end_time": "2024-12-05T06:25:40.912096Z",
     "start_time": "2024-12-05T06:25:39.947100Z"
    }
   },
   "source": [
    "documents = read_csv('data/processed/all_data_cleaned.csv', text_column='cleaned_text')\n",
    "label = read_csv('data/processed/all_data_cleaned.csv', text_column='class_label')\n",
    "documents\n",
    "label"
   ],
   "outputs": [
    {
     "data": {
      "text/plain": [
       "0         infrastructure_and_utilities_damage\n",
       "1                            not_humanitarian\n",
       "2         infrastructure_and_utilities_damage\n",
       "3                            not_humanitarian\n",
       "4                      injured_or_dead_people\n",
       "                         ...                 \n",
       "212761    infrastructure_and_utilities_damage\n",
       "212762                       not_humanitarian\n",
       "212763                   sympathy_and_support\n",
       "212764                       not_humanitarian\n",
       "212765                       not_humanitarian\n",
       "Name: class_label, Length: 212766, dtype: object"
      ]
     },
     "execution_count": 10,
     "metadata": {},
     "output_type": "execute_result"
    }
   ],
   "execution_count": 10
  },
  {
   "metadata": {
    "ExecuteTime": {
     "end_time": "2024-12-05T06:25:40.990604Z",
     "start_time": "2024-12-05T06:25:40.960097Z"
    }
   },
   "cell_type": "code",
   "source": "train, test = train_test_split(df, test_size=0.2, random_state=42)",
   "id": "a7e97e4499a6892f",
   "outputs": [
    {
     "ename": "NameError",
     "evalue": "name 'df' is not defined",
     "output_type": "error",
     "traceback": [
      "\u001B[1;31m---------------------------------------------------------------------------\u001B[0m",
      "\u001B[1;31mNameError\u001B[0m                                 Traceback (most recent call last)",
      "Cell \u001B[1;32mIn[11], line 1\u001B[0m\n\u001B[1;32m----> 1\u001B[0m train, test \u001B[38;5;241m=\u001B[39m train_test_split(\u001B[43mdf\u001B[49m, test_size\u001B[38;5;241m=\u001B[39m\u001B[38;5;241m0.2\u001B[39m, random_state\u001B[38;5;241m=\u001B[39m\u001B[38;5;241m42\u001B[39m)\n",
      "\u001B[1;31mNameError\u001B[0m: name 'df' is not defined"
     ]
    }
   ],
   "execution_count": 11
  },
  {
   "cell_type": "code",
   "id": "d515fd326c4ea7c2",
   "metadata": {
    "ExecuteTime": {
     "end_time": "2024-12-05T06:25:41.028604900Z",
     "start_time": "2024-12-05T06:24:41.113319Z"
    }
   },
   "source": "raw_texts, tokenized_texts, embeddings = preprocess_documents(train['document'])",
   "outputs": [
    {
     "ename": "NameError",
     "evalue": "name 'train' is not defined",
     "output_type": "error",
     "traceback": [
      "\u001B[1;31m---------------------------------------------------------------------------\u001B[0m",
      "\u001B[1;31mNameError\u001B[0m                                 Traceback (most recent call last)",
      "Cell \u001B[1;32mIn[7], line 1\u001B[0m\n\u001B[1;32m----> 1\u001B[0m raw_texts, tokenized_texts, embeddings \u001B[38;5;241m=\u001B[39m preprocess_documents(\u001B[43mtrain\u001B[49m[\u001B[38;5;124m'\u001B[39m\u001B[38;5;124mdocument\u001B[39m\u001B[38;5;124m'\u001B[39m])\n",
      "\u001B[1;31mNameError\u001B[0m: name 'train' is not defined"
     ]
    }
   ],
   "execution_count": 7
  },
  {
   "cell_type": "code",
   "id": "6449f3dec41d9863",
   "metadata": {
    "ExecuteTime": {
     "end_time": "2024-12-05T06:25:41.038604700Z",
     "start_time": "2024-12-05T04:37:01.956190Z"
    }
   },
   "source": "pipeline = TwoStagePipeline(documents[0])",
   "outputs": [
    {
     "name": "stderr",
     "output_type": "stream",
     "text": [
      "Token indices sequence length is longer than the specified maximum sequence length for this model (1149 > 512). Running this sequence through the model will result in indexing errors\n"
     ]
    }
   ],
   "execution_count": 14
  },
  {
   "cell_type": "code",
   "id": "ffb9bd27c99d068",
   "metadata": {
    "ExecuteTime": {
     "end_time": "2024-12-05T06:25:41.041604400Z",
     "start_time": "2024-12-05T04:37:11.833475Z"
    }
   },
   "source": [
    "results = pipeline.run(\"Flooding\")\n",
    "print(results)"
   ],
   "outputs": [
    {
     "name": "stdout",
     "output_type": "stream",
     "text": [
      "[(' flooding in', 62.300636), (' flooding in', 62.300636), ('zombie  flooding  with  connections', 59.204857), ('zombie  flooding  with  connections', 59.204857), ('flooding ', 58.321133)]\n"
     ]
    }
   ],
   "execution_count": 15
  },
  {
   "cell_type": "code",
   "id": "b520ad83d22974f",
   "metadata": {
    "ExecuteTime": {
     "end_time": "2024-12-05T06:25:41.041604400Z",
     "start_time": "2024-12-05T04:37:11.953436Z"
    }
   },
   "source": [],
   "outputs": [],
   "execution_count": null
  }
 ],
 "metadata": {
  "kernelspec": {
   "display_name": "dsan6700",
   "language": "python",
   "name": "python3"
  },
  "language_info": {
   "codemirror_mode": {
    "name": "ipython",
    "version": 3
   },
   "file_extension": ".py",
   "mimetype": "text/x-python",
   "name": "python",
   "nbconvert_exporter": "python",
   "pygments_lexer": "ipython3",
   "version": "3.10.15"
  }
 },
 "nbformat": 4,
 "nbformat_minor": 5
}
