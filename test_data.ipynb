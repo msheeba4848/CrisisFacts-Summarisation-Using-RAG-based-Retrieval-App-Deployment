{
 "cells": [
  {
   "cell_type": "code",
   "id": "initial_id",
   "metadata": {
    "collapsed": true,
    "ExecuteTime": {
     "end_time": "2024-12-05T20:06:50.775842Z",
     "start_time": "2024-12-05T20:06:47.679935Z"
    }
   },
   "source": [
    "from src.backend.retrieval.file_reader import read_csv\n",
    "from src.backend.retrieval.pipeline import TwoStagePipeline, preprocess_documents\n",
    "from sklearn.model_selection import train_test_split\n",
    "import numpy as np"
   ],
   "outputs": [],
   "execution_count": 1
  },
  {
   "cell_type": "code",
   "id": "8ff9652acc02b952",
   "metadata": {
    "ExecuteTime": {
     "end_time": "2024-12-05T20:06:51.616529Z",
     "start_time": "2024-12-05T20:06:50.782844Z"
    }
   },
   "source": [
    "df = read_csv('data/processed/all_data_cleaned.csv', doc_column='cleaned_text', label_column='class_label')\n",
    "X_train, X_test, y_train, y_test = train_test_split(df[0], df[1], test_size=0.2, random_state=42)\n"
   ],
   "outputs": [],
   "execution_count": 2
  },
  {
   "cell_type": "code",
   "id": "7d33acfd",
   "metadata": {
    "ExecuteTime": {
     "end_time": "2024-12-05T20:08:15.633258Z",
     "start_time": "2024-12-05T20:06:51.805302Z"
    }
   },
   "source": [
    "raw_texts_train, tokenized_texts_train, embeddings_train = preprocess_documents(\n",
    "    X_train, model_name=\"bert-base-uncased\", batch_size=64\n",
    ")\n",
    "\n",
    "# Preprocess testing data\n",
    "raw_texts_test, tokenized_texts_test, embeddings_test = preprocess_documents(\n",
    "    X_test, model_name=\"bert-base-uncased\", batch_size=64\n",
    ")"
   ],
   "outputs": [
    {
     "name": "stderr",
     "output_type": "stream",
     "text": [
      "Token indices sequence length is longer than the specified maximum sequence length for this model (616 > 512). Running this sequence through the model will result in indexing errors\n",
      "Token indices sequence length is longer than the specified maximum sequence length for this model (1149 > 512). Running this sequence through the model will result in indexing errors\n"
     ]
    }
   ],
   "execution_count": 3
  },
  {
   "cell_type": "code",
   "id": "9981003c",
   "metadata": {
    "ExecuteTime": {
     "end_time": "2024-12-05T20:08:23.944769Z",
     "start_time": "2024-12-05T20:08:15.664259Z"
    }
   },
   "source": [
    "pipeline = TwoStagePipeline(raw_texts_train, model_name=\"bert-base-uncased\")\n"
   ],
   "outputs": [
    {
     "name": "stderr",
     "output_type": "stream",
     "text": [
      "Token indices sequence length is longer than the specified maximum sequence length for this model (616 > 512). Running this sequence through the model will result in indexing errors\n"
     ]
    }
   ],
   "execution_count": 4
  },
  {
   "cell_type": "code",
   "id": "0193b879",
   "metadata": {
    "ExecuteTime": {
     "end_time": "2024-12-05T21:40:54.895913Z",
     "start_time": "2024-12-05T20:08:23.949770Z"
    }
   },
   "source": [
    "results = []\n",
    "\n",
    "for query, expected_doc in zip(y_test, X_test):\n",
    "    retrieved_docs = pipeline.run(query, bm25_top_k=5, faiss_top_k=2)\n",
    "    retrieved_texts = [doc for doc, score in retrieved_docs]\n",
    "    \n",
    "    # Check if the expected document is among the retrieved results\n",
    "    success = expected_doc in retrieved_texts\n",
    "    results.append(success)\n",
    "\n",
    "# Calculate accuracy\n",
    "accuracy = sum(results) / len(results)\n",
    "print(f\"Accuracy: {accuracy * 100:.2f}%\")"
   ],
   "outputs": [
    {
     "name": "stdout",
     "output_type": "stream",
     "text": [
      "Accuracy: 0.00%\n"
     ]
    }
   ],
   "execution_count": 5
  },
  {
   "cell_type": "code",
   "id": "0ce7cb95",
   "metadata": {
    "jupyter": {
     "is_executing": true
    },
    "ExecuteTime": {
     "start_time": "2024-12-05T21:40:54.942137Z"
    }
   },
   "source": [
    "from sklearn.metrics import precision_score, recall_score\n",
    "\n",
    "# Binary relevance: 1 if the expected_doc is retrieved, 0 otherwise\n",
    "y_true = [1 if expected_doc in pipeline.run(query, bm25_top_k=5, faiss_top_k=2) else 0\n",
    "          for query, expected_doc in zip(y_test, X_test)]\n",
    "y_pred = [1] * len(y_true)  # Assume all predictions are positive (retrieved)\n",
    "\n",
    "# Calculate Precision and Recall\n",
    "precision = precision_score(y_true, y_pred)\n",
    "recall = recall_score(y_true, y_pred)\n",
    "\n",
    "print(f\"Precision: {precision:.2f}\")\n",
    "print(f\"Recall: {recall:.2f}\")"
   ],
   "outputs": [],
   "execution_count": null
  },
  {
   "cell_type": "code",
   "execution_count": null,
   "id": "6449f3dec41d9863",
   "metadata": {
    "ExecuteTime": {
     "end_time": "2024-12-05T06:25:41.038604700Z",
     "start_time": "2024-12-05T04:37:01.956190Z"
    }
   },
   "outputs": [
    {
     "name": "stderr",
     "output_type": "stream",
     "text": [
      "Token indices sequence length is longer than the specified maximum sequence length for this model (916 > 512). Running this sequence through the model will result in indexing errors\n"
     ]
    }
   ],
   "source": [
    "pipeline = TwoStagePipeline(X_train)"
   ]
  },
  {
   "cell_type": "code",
   "execution_count": null,
   "id": "ffb9bd27c99d068",
   "metadata": {
    "ExecuteTime": {
     "end_time": "2024-12-05T06:25:41.041604400Z",
     "start_time": "2024-12-05T04:37:11.833475Z"
    }
   },
   "outputs": [
    {
     "name": "stdout",
     "output_type": "stream",
     "text": [
      "[('���: Flooding in', 24.183031), ('���: Flooding in', 24.183031), ('crazy flooding', 19.70793), ('Photos: Severe flooding in Australia', 17.449879), ('flooding kills two.    …', 14.185497)]\n"
     ]
    }
   ],
   "source": []
  },
  {
   "cell_type": "code",
   "execution_count": null,
   "id": "b520ad83d22974f",
   "metadata": {
    "ExecuteTime": {
     "end_time": "2024-12-05T06:25:41.041604400Z",
     "start_time": "2024-12-05T04:37:11.953436Z"
    }
   },
   "outputs": [],
   "source": []
  }
 ],
 "metadata": {
  "kernelspec": {
   "display_name": "dsan6700",
   "language": "python",
   "name": "python3"
  },
  "language_info": {
   "codemirror_mode": {
    "name": "ipython",
    "version": 3
   },
   "file_extension": ".py",
   "mimetype": "text/x-python",
   "name": "python",
   "nbconvert_exporter": "python",
   "pygments_lexer": "ipython3",
   "version": "3.10.15"
  }
 },
 "nbformat": 4,
 "nbformat_minor": 5
}
