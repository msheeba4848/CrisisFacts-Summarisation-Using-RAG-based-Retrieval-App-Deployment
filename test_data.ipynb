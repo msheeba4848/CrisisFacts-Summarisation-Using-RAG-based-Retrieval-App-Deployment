{
 "cells": [
  {
   "cell_type": "code",
   "id": "initial_id",
   "metadata": {
    "collapsed": true,
    "ExecuteTime": {
     "end_time": "2024-12-05T23:38:37.650270Z",
     "start_time": "2024-12-05T23:38:33.403210Z"
    }
   },
   "source": [
    "from src.backend.retrieval.file_reader import read_csv\n",
    "from src.backend.retrieval.pipeline import preprocess_documents\n",
    "from src.backend.retrieval.bm25 import BM25Retriever\n",
    "from src.backend.retrieval.transformer import TransformerRetrieverANN\n",
    "from sklearn.model_selection import train_test_split"
   ],
   "outputs": [],
   "execution_count": 1
  },
  {
   "cell_type": "code",
   "id": "8ff9652acc02b952",
   "metadata": {
    "ExecuteTime": {
     "end_time": "2024-12-05T23:38:40.350626Z",
     "start_time": "2024-12-05T23:38:39.227311Z"
    }
   },
   "source": [
    "file_path = 'data/processed/all_data_cleaned.csv'\n",
    "data = read_csv(file_path)\n",
    "X = data['cleaned_text']\n",
    "y = data['class_label']\n",
    "X_train, X_test, y_train, y_test = train_test_split(X, y, test_size=0.2, random_state=42)\n"
   ],
   "outputs": [],
   "execution_count": 2
  },
  {
   "cell_type": "code",
   "id": "7d33acfd",
   "metadata": {
    "ExecuteTime": {
     "end_time": "2024-12-05T23:39:26.460012Z",
     "start_time": "2024-12-05T23:38:52.454533Z"
    }
   },
   "source": [
    "X_train_embeddings, transformer_model = preprocess_documents(X_train.tolist())\n",
    "X_test_embeddings, _ = preprocess_documents(X_test.tolist())"
   ],
   "outputs": [
    {
     "name": "stdout",
     "output_type": "stream",
     "text": [
      "Using device: cuda\n",
      "Generating embeddings...\n"
     ]
    },
    {
     "data": {
      "text/plain": [
       "Batches:   0%|          | 0/5317 [00:00<?, ?it/s]"
      ],
      "application/vnd.jupyter.widget-view+json": {
       "version_major": 2,
       "version_minor": 0,
       "model_id": "b40275d17aff4ed79ed435643e2be766"
      }
     },
     "metadata": {},
     "output_type": "display_data"
    },
    {
     "name": "stdout",
     "output_type": "stream",
     "text": [
      "Using device: cuda\n",
      "Generating embeddings...\n"
     ]
    },
    {
     "data": {
      "text/plain": [
       "Batches:   0%|          | 0/1330 [00:00<?, ?it/s]"
      ],
      "application/vnd.jupyter.widget-view+json": {
       "version_major": 2,
       "version_minor": 0,
       "model_id": "6a961653818a464fa74912431f680c7c"
      }
     },
     "metadata": {},
     "output_type": "display_data"
    }
   ],
   "execution_count": 3
  },
  {
   "cell_type": "code",
   "id": "9981003c",
   "metadata": {
    "ExecuteTime": {
     "end_time": "2024-12-05T23:39:49.740027Z",
     "start_time": "2024-12-05T23:39:43.993945Z"
    }
   },
   "source": [
    "print(\"\\nBM25 Retriever Results:\")\n",
    "bm25_retriever = BM25Retriever(X_train)\n",
    "bm25_results = bm25_retriever.query(X_test[:10], top_n=1)\n",
    "print(\"BM25 Results:\", bm25_results)"
   ],
   "outputs": [
    {
     "name": "stdout",
     "output_type": "stream",
     "text": [
      "\n",
      "BM25 Retriever Results:\n"
     ]
    },
    {
     "name": "stderr",
     "output_type": "stream",
     "text": [
      "C:\\Users\\Jacky\\AppData\\Local\\Temp\\ipykernel_142040\\4267419831.py:3: FutureWarning: The behavior of `series[i:j]` with an integer-dtype index is deprecated. In a future version, this will be treated as *label-based* indexing, consistent with e.g. `series[i]` lookups. To retain the old behavior, use `series.iloc[i:j]`. To get the future behavior, use `series.loc[i:j]`.\n",
      "  bm25_results = bm25_retriever.query(X_test[:10], top_n=1)\n"
     ]
    },
    {
     "name": "stdout",
     "output_type": "stream",
     "text": [
      "BM25 Results: [array([54718], dtype=int64), array([89327], dtype=int64), array([160185], dtype=int64), array([164499], dtype=int64), array([110444], dtype=int64), array([150452], dtype=int64), array([97162], dtype=int64), array([153058], dtype=int64), array([125044], dtype=int64), array([156877], dtype=int64)]\n"
     ]
    }
   ],
   "execution_count": 4
  },
  {
   "cell_type": "code",
   "id": "0193b879",
   "metadata": {
    "ExecuteTime": {
     "end_time": "2024-12-05T23:40:19.636356Z",
     "start_time": "2024-12-05T23:39:53.859497Z"
    }
   },
   "source": [
    "print(\"\\nTransformer ANN Retriever Results:\")\n",
    "dimension = X_train_embeddings.shape[1]\n",
    "transformer_retriever = TransformerRetrieverANN('sentence-transformers/all-MiniLM-L6-v2', n_neighbors=5)\n",
    "transformer_retriever.fit(X_train.tolist())"
   ],
   "outputs": [
    {
     "name": "stdout",
     "output_type": "stream",
     "text": [
      "\n",
      "Transformer ANN Retriever Results:\n",
      "Generating embeddings for the corpus...\n"
     ]
    },
    {
     "data": {
      "text/plain": [
       "Batches:   0%|          | 0/5317 [00:00<?, ?it/s]"
      ],
      "application/vnd.jupyter.widget-view+json": {
       "version_major": 2,
       "version_minor": 0,
       "model_id": "6ab74c258cf341c181dc93ecacc34c5a"
      }
     },
     "metadata": {},
     "output_type": "display_data"
    }
   ],
   "execution_count": 5
  },
  {
   "cell_type": "code",
   "id": "0ce7cb95",
   "metadata": {
    "ExecuteTime": {
     "end_time": "2024-12-05T23:40:42.424789Z",
     "start_time": "2024-12-05T23:40:42.195790Z"
    }
   },
   "source": [
    "query = X_test.iloc[0]  # Example query\n",
    "results, distances = transformer_retriever.query(query, top_n=3)\n",
    "print(\"Query:\", query)\n",
    "print(\"Results:\", results)\n",
    "print(\"Distances:\", distances)"
   ],
   "outputs": [
    {
     "name": "stdout",
     "output_type": "stream",
     "text": [
      "Query: NAIROBI, 1 February (IRIN) - A recent survey by the aid agency International Rescue Committee has shown widespread reluctance among residents of Goma, in the eastern Democratic Republic of Congo, to relocate outside the volcano stricken town, despite the danger of further eruptions in the region.\n",
      "Results: ['NAIROBI, 1 February (IRIN) - A recent survey by the aid agency International Rescue Committee has shown widespread reluctance among residents of Goma, in the eastern Democratic Republic of Congo, to relocate outside the volcano stricken town, despite the danger of further eruptions in the region.', 'I gather \"IRMA\" hit some parts of Kenya?', \"ISIOLO, 17 October 2012 (IRIN) - Amid rising insecurity, a senior official in Kenya's North Eastern Province has ordered all refugees and unregistered migrants from neighbouring Somalia to move to the under-resourced Dadaab refugee complex by 20 October or face forced relocation.\"]\n",
      "Distances: [0.         0.38501334 0.45417732]\n"
     ]
    }
   ],
   "execution_count": 6
  },
  {
   "cell_type": "code",
   "id": "6449f3dec41d9863",
   "metadata": {
    "ExecuteTime": {
     "end_time": "2024-12-05T23:56:38.128346Z",
     "start_time": "2024-12-05T23:56:33.271451Z"
    }
   },
   "source": [
    "from sklearn.metrics import accuracy_score, classification_report, confusion_matrix\n",
    "import numpy as np\n",
    "\n",
    "# Define a helper function for evaluation\n",
    "def evaluate_retriever(y_test, predicted_labels):\n",
    "    \"\"\"\n",
    "    Evaluates the retriever using accuracy and confusion matrix.\n",
    "    \"\"\"\n",
    "    print(\"\\nAccuracy:\", accuracy_score(y_test, predicted_labels))\n",
    "    print(\"\\nClassification Report:\\n\", classification_report(\n",
    "        y_test, predicted_labels, zero_division=0))  # Handle undefined metrics\n",
    "    print(\"\\nConfusion Matrix:\\n\", confusion_matrix(y_test, predicted_labels))\n",
    "\n",
    "# Step 4: BM25 Retriever Evaluation\n",
    "print(\"\\nBM25 Retriever Evaluation:\")\n",
    "bm25_predicted_labels = []\n",
    "\n",
    "# Debugging Loop\n",
    "for query in X_test.iloc[:10]:  # Adjust the range as needed\n",
    "    # Retrieve the top index\n",
    "    results = bm25_retriever.query([query], top_n=1)\n",
    "    top_result_idx = results[0][0]\n",
    "\n",
    "    # Debug: Print the retrieved index and corresponding label\n",
    "    print(f\"Query: {query}\")\n",
    "    print(f\"Retrieved Index: {top_result_idx}\")\n",
    "    print(f\"Retrieved Label: {y_train.iloc[top_result_idx]}\")\n",
    "\n",
    "    # Append the predicted label\n",
    "    bm25_predicted_labels.append(y_train.iloc[top_result_idx])\n",
    "\n",
    "# Evaluate BM25\n",
    "evaluate_retriever(y_test.iloc[:10].tolist(), bm25_predicted_labels)\n"
   ],
   "outputs": [
    {
     "name": "stdout",
     "output_type": "stream",
     "text": [
      "\n",
      "BM25 Retriever Evaluation:\n",
      "Query: NAIROBI, 1 February (IRIN) - A recent survey by the aid agency International Rescue Committee has shown widespread reluctance among residents of Goma, in the eastern Democratic Republic of Congo, to relocate outside the volcano stricken town, despite the danger of further eruptions in the region.\n",
      "Retrieved Index: 54718\n",
      "Retrieved Label: requests_or_needs\n",
      "Query: ��� I love you, but enough of\n",
      "Retrieved Index: 89327\n",
      "Retrieved Label: informative\n",
      "Query: COINCIDENCE????? … … … Damage due to typhoon Pablo reaches P14 billion - NDRRMC\n",
      "Retrieved Index: 160185\n",
      "Retrieved Label: infrastructure_and_utilities_damage\n",
      "Query: THERE'S A TORNADO WARNING FOR OAKLAND\n",
      "Retrieved Index: 164499\n",
      "Retrieved Label: informative\n",
      "Query: we want video tweet\\nU HV promised us \\n\\nSRK 13 Million\n",
      "Retrieved Index: 110444\n",
      "Retrieved Label: not_humanitarian\n",
      "Query: Qatar using migrant labor, modern day slavery, &amp; hundreds dead building their World Cup stadiums in the unbearable heat.\n",
      "Retrieved Index: 150452\n",
      "Retrieved Label: informative\n",
      "Query: I tend to make myself feel like I'm at home when I go places.\n",
      "Retrieved Index: 97162\n",
      "Retrieved Label: not_informative\n",
      "Query: The statistics from our Rohingya report are sickening via thanks\n",
      "Retrieved Index: 153058\n",
      "Retrieved Label: caution_and_advice\n",
      "Query: What a performance by the crowd at the Garden\n",
      "Retrieved Index: 125044\n",
      "Retrieved Label: not_humanitarian\n",
      "Query: I see she bought the sequel....that's not my doing now cause I thought the book was awful\n",
      "Retrieved Index: 156877\n",
      "Retrieved Label: not_informative\n",
      "\n",
      "Accuracy: 0.0\n",
      "\n",
      "Classification Report:\n",
      "                                      precision    recall  f1-score   support\n",
      "\n",
      "                 caution_and_advice       0.00      0.00      0.00       1.0\n",
      "                        informative       0.00      0.00      0.00       4.0\n",
      "infrastructure_and_utilities_damage       0.00      0.00      0.00       0.0\n",
      "                   not_humanitarian       0.00      0.00      0.00       3.0\n",
      "                    not_informative       0.00      0.00      0.00       1.0\n",
      "                  requests_or_needs       0.00      0.00      0.00       0.0\n",
      "               sympathy_and_support       0.00      0.00      0.00       1.0\n",
      "\n",
      "                           accuracy                           0.00      10.0\n",
      "                          macro avg       0.00      0.00      0.00      10.0\n",
      "                       weighted avg       0.00      0.00      0.00      10.0\n",
      "\n",
      "\n",
      "Confusion Matrix:\n",
      " [[0 1 0 0 0 0 0]\n",
      " [1 0 1 1 0 1 0]\n",
      " [0 0 0 0 0 0 0]\n",
      " [0 1 0 0 2 0 0]\n",
      " [0 0 0 1 0 0 0]\n",
      " [0 0 0 0 0 0 0]\n",
      " [0 1 0 0 0 0 0]]\n"
     ]
    }
   ],
   "execution_count": 13
  },
  {
   "cell_type": "code",
   "execution_count": null,
   "id": "ffb9bd27c99d068",
   "metadata": {
    "ExecuteTime": {
     "end_time": "2024-12-05T23:37:08.298127700Z",
     "start_time": "2024-12-05T04:37:11.833475Z"
    }
   },
   "outputs": [
    {
     "name": "stdout",
     "output_type": "stream",
     "text": [
      "[('���: Flooding in', 24.183031), ('���: Flooding in', 24.183031), ('crazy flooding', 19.70793), ('Photos: Severe flooding in Australia', 17.449879), ('flooding kills two.    …', 14.185497)]\n"
     ]
    }
   ],
   "source": [
    "# Step 5: Transformer ANN Retriever Evaluation\n",
    "print(\"\\nTransformer ANN Retriever Evaluation:\")\n",
    "transformer_predicted_labels = []\n",
    "\n",
    "# Loop through the test queries\n",
    "for query in X_test.iloc[:10]:  # Correctly use .iloc for positional indexing\n",
    "    indices, _ = transformer_retriever.query(query, top_n=1)\n",
    "\n",
    "    # Debugging: Print the structure of indices\n",
    "    print(\"Query:\", query)\n",
    "    print(\"Indices:\", indices)\n",
    "    print(\"Type of indices:\", type(indices))\n",
    "\n",
    "    # Handle indexing based on structure\n",
    "    if isinstance(indices, np.ndarray):  # If indices is a NumPy array\n",
    "        index = indices[0][0]  # Extract the first index\n",
    "    elif isinstance(indices, list):  # If indices is a list\n",
    "        index = indices[0][0]\n",
    "    else:\n",
    "        raise ValueError(\"Unexpected type for indices:\", type(indices))\n",
    "\n",
    "    # Append the corresponding label\n",
    "    transformer_predicted_labels.append(y_train.iloc[index])\n",
    "\n",
    "# Evaluate Transformer ANN\n",
    "evaluate_retriever(y_test.iloc[:10].tolist(), transformer_predicted_labels)"
   ]
  },
  {
   "cell_type": "code",
   "execution_count": null,
   "id": "b520ad83d22974f",
   "metadata": {
    "ExecuteTime": {
     "end_time": "2024-12-05T23:37:08.298127700Z",
     "start_time": "2024-12-05T04:37:11.953436Z"
    }
   },
   "outputs": [],
   "source": []
  }
 ],
 "metadata": {
  "kernelspec": {
   "display_name": "dsan6700",
   "language": "python",
   "name": "python3"
  },
  "language_info": {
   "codemirror_mode": {
    "name": "ipython",
    "version": 3
   },
   "file_extension": ".py",
   "mimetype": "text/x-python",
   "name": "python",
   "nbconvert_exporter": "python",
   "pygments_lexer": "ipython3",
   "version": "3.10.15"
  }
 },
 "nbformat": 4,
 "nbformat_minor": 5
}
