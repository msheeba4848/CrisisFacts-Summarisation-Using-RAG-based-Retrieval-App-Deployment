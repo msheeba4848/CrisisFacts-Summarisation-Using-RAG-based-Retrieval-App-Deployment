{
 "cells": [
  {
   "cell_type": "code",
   "id": "initial_id",
   "metadata": {
    "collapsed": true,
    "ExecuteTime": {
     "end_time": "2024-12-05T04:35:38.855415Z",
     "start_time": "2024-12-05T04:35:38.842970Z"
    }
   },
   "source": [
    "from src.backend.retrieval.file_reader import read_csv\n",
    "from src.backend.retrieval.pipeline import TwoStagePipeline, preprocess_documents"
   ],
   "outputs": [],
   "execution_count": 11
  },
  {
   "cell_type": "code",
   "id": "8ff9652acc02b952",
   "metadata": {
    "ExecuteTime": {
     "end_time": "2024-12-05T04:35:39.388989Z",
     "start_time": "2024-12-05T04:35:38.866415Z"
    }
   },
   "source": [
    "documents = read_csv('data/processed/all_data_cleaned.csv', text_column='cleaned_text')\n",
    "type(documents)\n",
    "documents"
   ],
   "outputs": [
    {
     "data": {
      "text/plain": [
       "0         Approximately 100km long firebreaks have been ...\n",
       "1                                          God bless you...\n",
       "2         RT : Cracked wine casks, damaged historical  b...\n",
       "3         I'm really just excited for new undies and pin...\n",
       "4         Rescue effort expands in India, Pakistan as fl...\n",
       "                                ...                        \n",
       "212761        Tips to avoid flood damaged cars after Harvey\n",
       "212762    you don't have to say that twice... Over here ...\n",
       "212763    RT : We stand with  in the aftermath of the ea...\n",
       "212764             Quake: M 5.1, southern East Pacific Rise\n",
       "212765    Of to do skydive with   landing on a beach can...\n",
       "Name: cleaned_text, Length: 212766, dtype: object"
      ]
     },
     "execution_count": 12,
     "metadata": {},
     "output_type": "execute_result"
    }
   ],
   "execution_count": 12
  },
  {
   "cell_type": "code",
   "id": "d515fd326c4ea7c2",
   "metadata": {
    "ExecuteTime": {
     "end_time": "2024-12-05T04:37:01.925187Z",
     "start_time": "2024-12-05T04:35:39.436088Z"
    }
   },
   "source": "documents = preprocess_documents(documents)",
   "outputs": [
    {
     "name": "stderr",
     "output_type": "stream",
     "text": [
      "Token indices sequence length is longer than the specified maximum sequence length for this model (1149 > 512). Running this sequence through the model will result in indexing errors\n"
     ]
    }
   ],
   "execution_count": 13
  },
  {
   "cell_type": "code",
   "id": "6449f3dec41d9863",
   "metadata": {
    "ExecuteTime": {
     "end_time": "2024-12-05T04:37:11.828476Z",
     "start_time": "2024-12-05T04:37:01.956190Z"
    }
   },
   "source": "pipeline = TwoStagePipeline(documents[0])",
   "outputs": [
    {
     "name": "stderr",
     "output_type": "stream",
     "text": [
      "Token indices sequence length is longer than the specified maximum sequence length for this model (1149 > 512). Running this sequence through the model will result in indexing errors\n"
     ]
    }
   ],
   "execution_count": 14
  },
  {
   "cell_type": "code",
   "id": "ffb9bd27c99d068",
   "metadata": {
    "ExecuteTime": {
     "end_time": "2024-12-05T04:37:11.936434Z",
     "start_time": "2024-12-05T04:37:11.833475Z"
    }
   },
   "source": [
    "results = pipeline.run(\"Flooding\")\n",
    "print(results)"
   ],
   "outputs": [
    {
     "name": "stdout",
     "output_type": "stream",
     "text": [
      "[(' flooding in', 62.300636), (' flooding in', 62.300636), ('zombie  flooding  with  connections', 59.204857), ('zombie  flooding  with  connections', 59.204857), ('flooding ', 58.321133)]\n"
     ]
    }
   ],
   "execution_count": 15
  },
  {
   "cell_type": "code",
   "id": "b520ad83d22974f",
   "metadata": {
    "ExecuteTime": {
     "end_time": "2024-12-05T04:37:11.967432Z",
     "start_time": "2024-12-05T04:37:11.953436Z"
    }
   },
   "source": [],
   "outputs": [],
   "execution_count": null
  }
 ],
 "metadata": {
  "kernelspec": {
   "display_name": "dsan6700",
   "language": "python",
   "name": "python3"
  },
  "language_info": {
   "codemirror_mode": {
    "name": "ipython",
    "version": 3
   },
   "file_extension": ".py",
   "mimetype": "text/x-python",
   "name": "python",
   "nbconvert_exporter": "python",
   "pygments_lexer": "ipython3",
   "version": "3.10.15"
  }
 },
 "nbformat": 4,
 "nbformat_minor": 5
}
