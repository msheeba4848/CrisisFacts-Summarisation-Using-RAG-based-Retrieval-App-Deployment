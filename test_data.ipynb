{
 "cells": [
  {
   "cell_type": "code",
   "id": "initial_id",
   "metadata": {
    "collapsed": true,
    "ExecuteTime": {
     "end_time": "2024-12-04T01:54:52.175396Z",
     "start_time": "2024-12-04T01:54:49.477339Z"
    }
   },
   "source": [
    "from src.backend.retrieval.file_reader import read_csv\n",
    "from src.backend.retrieval.pipeline import TwoStagePipeline, preprocess_documents"
   ],
   "outputs": [],
   "execution_count": 1
  },
  {
   "cell_type": "code",
   "id": "8ff9652acc02b952",
   "metadata": {
    "ExecuteTime": {
     "end_time": "2024-12-04T01:54:52.642898Z",
     "start_time": "2024-12-04T01:54:52.179398Z"
    }
   },
   "source": [
    "documents = read_csv('data/processed/all_data_cleaned.csv', text_column='cleaned_text')\n",
    "type(documents)\n",
    "documents"
   ],
   "outputs": [
    {
     "data": {
      "text/plain": [
       "0         Approximately 100km long firebreaks have been ...\n",
       "1                                          God bless you...\n",
       "2         RT : Cracked wine casks, damaged historical  b...\n",
       "3         I'm really just excited for new undies and pin...\n",
       "4         Rescue effort expands in India, Pakistan as fl...\n",
       "                                ...                        \n",
       "212761        Tips to avoid flood damaged cars after Harvey\n",
       "212762    you don't have to say that twice... Over here ...\n",
       "212763    RT : We stand with  in the aftermath of the ea...\n",
       "212764             Quake: M 5.1, southern East Pacific Rise\n",
       "212765    Of to do skydive with   landing on a beach can...\n",
       "Name: cleaned_text, Length: 212766, dtype: object"
      ]
     },
     "execution_count": 2,
     "metadata": {},
     "output_type": "execute_result"
    }
   ],
   "execution_count": 2
  },
  {
   "cell_type": "code",
   "id": "d515fd326c4ea7c2",
   "metadata": {
    "ExecuteTime": {
     "end_time": "2024-12-04T01:56:14.501068Z",
     "start_time": "2024-12-04T01:54:52.721899Z"
    }
   },
   "source": "documents = preprocess_documents(documents)",
   "outputs": [
    {
     "name": "stderr",
     "output_type": "stream",
     "text": [
      "Token indices sequence length is longer than the specified maximum sequence length for this model (1149 > 512). Running this sequence through the model will result in indexing errors\n"
     ]
    }
   ],
   "execution_count": 3
  },
  {
   "cell_type": "code",
   "id": "6449f3dec41d9863",
   "metadata": {
    "ExecuteTime": {
     "end_time": "2024-12-04T01:56:14.548014Z",
     "start_time": "2024-12-04T01:56:14.542016Z"
    }
   },
   "source": "",
   "outputs": [],
   "execution_count": null
  },
  {
   "cell_type": "code",
   "id": "ffb9bd27c99d068",
   "metadata": {
    "ExecuteTime": {
     "end_time": "2024-12-04T01:56:14.578014Z",
     "start_time": "2024-12-04T01:56:14.572016Z"
    }
   },
   "source": [],
   "outputs": [],
   "execution_count": null
  },
  {
   "cell_type": "code",
   "id": "b520ad83d22974f",
   "metadata": {
    "ExecuteTime": {
     "end_time": "2024-12-04T01:56:14.593016Z",
     "start_time": "2024-12-04T01:56:14.585016Z"
    }
   },
   "source": [],
   "outputs": [],
   "execution_count": null
  }
 ],
 "metadata": {
  "kernelspec": {
   "display_name": "dsan6700",
   "language": "python",
   "name": "python3"
  },
  "language_info": {
   "codemirror_mode": {
    "name": "ipython",
    "version": 3
   },
   "file_extension": ".py",
   "mimetype": "text/x-python",
   "name": "python",
   "nbconvert_exporter": "python",
   "pygments_lexer": "ipython3",
   "version": "3.10.15"
  }
 },
 "nbformat": 4,
 "nbformat_minor": 5
}
